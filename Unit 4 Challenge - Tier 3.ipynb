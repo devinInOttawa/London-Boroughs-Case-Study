{
 "cells": [
  {
   "cell_type": "markdown",
   "metadata": {
    "colab_type": "text",
    "id": "Tia3MP1SJpgj"
   },
   "source": [
    "# Springboard Data Science Career Track Unit 4 Challenge - Tier 3 Complete\n",
    "\n",
    "## Objectives\n",
    "Hey! Great job getting through those challenging DataCamp courses. You're learning a lot in a short span of time. \n",
    "\n",
    "In this notebook, you're going to apply the skills you've been learning, bridging the gap between the controlled environment of DataCamp and the *slightly* messier work that data scientists do with actual datasets!\n",
    "\n",
    "Here’s the mystery we’re going to solve: ***which boroughs of London have seen the greatest increase in housing prices, on average, over the last two decades?***\n",
    "\n",
    "\n",
    "A borough is just a fancy word for district. You may be familiar with the five boroughs of New York… well, there are 32 boroughs within Greater London [(here's some info for the curious)](https://en.wikipedia.org/wiki/London_boroughs). Some of them are more desirable areas to live in, and the data will reflect that with a greater rise in housing prices.\n",
    "\n",
    "***This is the Tier 3 notebook, which means it's not filled in at all: we'll just give you the skeleton of a project, the brief and the data. It's up to you to play around with it and see what you can find out! Good luck! If you struggle, feel free to look at easier tiers for help; but try to dip in and out of them, as the more independent work you do, the better it is for your learning!***\n",
    "\n",
    "This challenge will make use of only what you learned in the following DataCamp courses: \n",
    "- Prework courses (Introduction to Python for Data Science, Intermediate Python for Data Science)\n",
    "- Data Types for Data Science\n",
    "- Python Data Science Toolbox (Part One) \n",
    "- pandas Foundations\n",
    "- Manipulating DataFrames with pandas\n",
    "- Merging DataFrames with pandas\n",
    "\n",
    "Of the tools, techniques and concepts in the above DataCamp courses, this challenge should require the application of the following: \n",
    "- **pandas**\n",
    "    - **data ingestion and inspection** (pandas Foundations, Module One) \n",
    "    - **exploratory data analysis** (pandas Foundations, Module Two)\n",
    "    - **tidying and cleaning** (Manipulating DataFrames with pandas, Module Three) \n",
    "    - **transforming DataFrames** (Manipulating DataFrames with pandas, Module One)\n",
    "    - **subsetting DataFrames with lists** (Manipulating DataFrames with pandas, Module One) \n",
    "    - **filtering DataFrames** (Manipulating DataFrames with pandas, Module One) \n",
    "    - **grouping data** (Manipulating DataFrames with pandas, Module Four) \n",
    "    - **melting data** (Manipulating DataFrames with pandas, Module Three) \n",
    "    - **advanced indexing** (Manipulating DataFrames with pandas, Module Four) \n",
    "- **matplotlib** (Intermediate Python for Data Science, Module One)\n",
    "- **fundamental data types** (Data Types for Data Science, Module One) \n",
    "- **dictionaries** (Intermediate Python for Data Science, Module Two)\n",
    "- **handling dates and times** (Data Types for Data Science, Module Four)\n",
    "- **function definition** (Python Data Science Toolbox - Part One, Module One)\n",
    "- **default arguments, variable length, and scope** (Python Data Science Toolbox - Part One, Module Two) \n",
    "- **lambda functions and error handling** (Python Data Science Toolbox - Part One, Module Four) "
   ]
  },
  {
   "cell_type": "markdown",
   "metadata": {
    "colab_type": "text",
    "id": "Ipgd2nV8Jpgl"
   },
   "source": [
    "## The Data Science Pipeline\n",
    "\n",
    "This is Tier Three, so we'll get you started. But after that, it's all in your hands! When you feel done with your investigations, look back over what you've accomplished, and prepare a quick presentation of your findings for the next mentor meeting. \n",
    "\n",
    "Data Science is magical. In this case study, you'll get to apply some complex machine learning algorithms. But as  [David Spiegelhalter](https://www.youtube.com/watch?v=oUs1uvsz0Ok) reminds us, there is no substitute for simply **taking a really, really good look at the data.** Sometimes, this is all we need to answer our question.\n",
    "\n",
    "Data Science projects generally adhere to the four stages of Data Science Pipeline:\n",
    "1. Sourcing and loading \n",
    "2. Cleaning, transforming, and visualizing \n",
    "3. Modeling \n",
    "4. Evaluating and concluding \n"
   ]
  },
  {
   "cell_type": "markdown",
   "metadata": {
    "colab_type": "text",
    "id": "zswDqbefJpgm"
   },
   "source": [
    "### 1. Sourcing and Loading \n",
    "\n",
    "Any Data Science project kicks off by importing  ***pandas***. The documentation of this wonderful library can be found [here](https://pandas.pydata.org/). As you've seen, pandas is conveniently connected to the [Numpy](http://www.numpy.org/) and [Matplotlib](https://matplotlib.org/) libraries. \n",
    "\n",
    "***Hint:*** This part of the data science pipeline will test those skills you acquired in the pandas Foundations course, Module One. "
   ]
  },
  {
   "cell_type": "markdown",
   "metadata": {
    "colab_type": "text",
    "id": "aEau5nEvJpgm"
   },
   "source": [
    "#### 1.1. Importing Libraries"
   ]
  },
  {
   "cell_type": "code",
   "execution_count": 2,
   "metadata": {
    "colab": {},
    "colab_type": "code",
    "id": "7Bt_Q_oPJpgn"
   },
   "outputs": [],
   "source": [
    "# Let's import the pandas, numpy libraries as pd, and np respectively. \n",
    "import pandas as pd\n",
    "import numpy as np\n",
    "\n",
    "# Load the pyplot collection of functions from matplotlib, as plt \n",
    "import matplotlib.pyplot as plt"
   ]
  },
  {
   "cell_type": "markdown",
   "metadata": {
    "colab_type": "text",
    "id": "koUrawxsJpgq"
   },
   "source": [
    "#### 1.2.  Loading the data\n",
    "Your data comes from the [London Datastore](https://data.london.gov.uk/): a free, open-source data-sharing portal for London-oriented datasets. "
   ]
  },
  {
   "cell_type": "code",
   "execution_count": 3,
   "metadata": {
    "colab": {},
    "colab_type": "code",
    "id": "AiLiD4v3Jpgr"
   },
   "outputs": [],
   "source": [
    "# First, make a variable called url_LondonHousePrices, and assign it the following link, enclosed in quotation-marks as a string:\n",
    "# https://data.london.gov.uk/download/uk-house-price-index/70ac0766-8902-4eb5-aab5-01951aaed773/UK%20House%20price%20index.xls\n",
    "\n",
    "url_LondonHousePrices = \"https://data.london.gov.uk/download/uk-house-price-index/70ac0766-8902-4eb5-aab5-01951aaed773/UK%20House%20price%20index.xls\"\n",
    "\n",
    "# The dataset we're interested in contains the Average prices of the houses, and is actually on a particular sheet of the Excel file. \n",
    "# As a result, we need to specify the sheet name in the read_excel() method.\n",
    "# Put this data into a variable called properties.  \n",
    "properties = pd.read_excel(url_LondonHousePrices, sheet_name='Average price', index_col= None)"
   ]
  },
  {
   "cell_type": "markdown",
   "metadata": {
    "colab_type": "text",
    "id": "POukEJXgJpgu"
   },
   "source": [
    "### 2. Cleaning, transforming, and visualizing\n",
    "This second stage is arguably the most important part of any Data Science project. The first thing to do is take a proper look at the data. Cleaning forms the majority of this stage, and can be done both before or after Transformation.\n",
    "\n",
    "The end goal of data cleaning is to have tidy data. When data is tidy: \n",
    "\n",
    "1. Each variable has a column.\n",
    "2. Each observation forms a row.\n",
    "\n",
    "Keep the end goal in mind as you move through this process, every step will take you closer. \n",
    "\n",
    "\n",
    "\n",
    "***Hint:*** This part of the data science pipeline should test those skills you acquired in: \n",
    "- Intermediate Python for data science, all modules.\n",
    "- pandas Foundations, all modules. \n",
    "- Manipulating DataFrames with pandas, all modules.\n",
    "- Data Types for Data Science, Module Four.\n",
    "- Python Data Science Toolbox - Part One, all modules"
   ]
  },
  {
   "cell_type": "markdown",
   "metadata": {
    "colab_type": "text",
    "id": "Te0Q548tnzZa"
   },
   "source": [
    "**2.1. Exploring your data** \n",
    "\n",
    "Think about your pandas functions for checking out a dataframe. "
   ]
  },
  {
   "cell_type": "code",
   "execution_count": 4,
   "metadata": {
    "colab": {},
    "colab_type": "code",
    "id": "Rxirxw_qoAJa"
   },
   "outputs": [
    {
     "name": "stdout",
     "output_type": "stream",
     "text": [
      "<class 'pandas.core.frame.DataFrame'>\n",
      "DatetimeIndex: 322 entries, NaT to 2021-09-01\n",
      "Data columns (total 48 columns):\n",
      "City of London          322 non-null object\n",
      "Barking & Dagenham      322 non-null object\n",
      "Barnet                  322 non-null object\n",
      "Bexley                  322 non-null object\n",
      "Brent                   322 non-null object\n",
      "Bromley                 322 non-null object\n",
      "Camden                  322 non-null object\n",
      "Croydon                 322 non-null object\n",
      "Ealing                  322 non-null object\n",
      "Enfield                 322 non-null object\n",
      "Greenwich               322 non-null object\n",
      "Hackney                 322 non-null object\n",
      "Hammersmith & Fulham    322 non-null object\n",
      "Haringey                322 non-null object\n",
      "Harrow                  322 non-null object\n",
      "Havering                322 non-null object\n",
      "Hillingdon              322 non-null object\n",
      "Hounslow                322 non-null object\n",
      "Islington               322 non-null object\n",
      "Kensington & Chelsea    322 non-null object\n",
      "Kingston upon Thames    322 non-null object\n",
      "Lambeth                 322 non-null object\n",
      "Lewisham                322 non-null object\n",
      "Merton                  322 non-null object\n",
      "Newham                  322 non-null object\n",
      "Redbridge               322 non-null object\n",
      "Richmond upon Thames    322 non-null object\n",
      "Southwark               322 non-null object\n",
      "Sutton                  322 non-null object\n",
      "Tower Hamlets           322 non-null object\n",
      "Waltham Forest          322 non-null object\n",
      "Wandsworth              322 non-null object\n",
      "Westminster             322 non-null object\n",
      "Unnamed: 33             0 non-null float64\n",
      "Inner London            322 non-null object\n",
      "Outer London            322 non-null object\n",
      "Unnamed: 36             0 non-null float64\n",
      "NORTH EAST              322 non-null object\n",
      "NORTH WEST              322 non-null object\n",
      "YORKS & THE HUMBER      322 non-null object\n",
      "EAST MIDLANDS           322 non-null object\n",
      "WEST MIDLANDS           322 non-null object\n",
      "EAST OF ENGLAND         322 non-null object\n",
      "LONDON                  322 non-null object\n",
      "SOUTH EAST              322 non-null object\n",
      "SOUTH WEST              322 non-null object\n",
      "Unnamed: 46             0 non-null float64\n",
      "England                 322 non-null object\n",
      "dtypes: float64(3), object(45)\n",
      "memory usage: 123.3+ KB\n",
      "None\n",
      "           City of London Barking & Dagenham     Barnet     Bexley      Brent  \\\n",
      "NaT             E09000001          E09000002  E09000003  E09000004  E09000005   \n",
      "1995-01-01          91449            50460.2    93284.5    64958.1    71306.6   \n",
      "1995-02-01        82202.8            51085.8    93190.2    64787.9    72022.3   \n",
      "1995-03-01        79120.7              51269    92247.5    64367.5    72015.8   \n",
      "1995-04-01        77101.2            53133.5    90762.9    64277.7    72965.6   \n",
      "\n",
      "              Bromley     Camden    Croydon     Ealing    Enfield    ...      \\\n",
      "NaT         E09000006  E09000007  E09000008  E09000009  E09000010    ...       \n",
      "1995-01-01    81671.5     120933    69158.2    79885.9    72514.7    ...       \n",
      "1995-02-01    81657.6     119509    68951.1    80897.1    73155.2    ...       \n",
      "1995-03-01    81449.3     120282    68712.4    81379.9    72190.4    ...       \n",
      "1995-04-01    81124.4     120098      68610    82188.9    71442.9    ...       \n",
      "\n",
      "           NORTH WEST YORKS & THE HUMBER EAST MIDLANDS WEST MIDLANDS  \\\n",
      "NaT         E12000002          E12000003     E12000004     E12000005   \n",
      "1995-01-01    43958.5            44803.4       45544.5       48527.5   \n",
      "1995-02-01    43925.4            44528.8       46051.6       49341.3   \n",
      "1995-03-01    44434.9            45200.5       45383.8       49442.2   \n",
      "1995-04-01    44267.8            45614.3       46124.2       49455.9   \n",
      "\n",
      "           EAST OF ENGLAND     LONDON SOUTH EAST SOUTH WEST Unnamed: 46  \\\n",
      "NaT              E12000006  E12000007  E12000008  E12000009         NaN   \n",
      "1995-01-01         56701.6    74435.8    64018.9    54705.2         NaN   \n",
      "1995-02-01         56593.6    72777.9      63715    54356.1         NaN   \n",
      "1995-03-01         56171.2    73896.8    64113.6    53583.1         NaN   \n",
      "1995-04-01         56567.9    74455.3    64623.2      54786         NaN   \n",
      "\n",
      "              England  \n",
      "NaT         E92000001  \n",
      "1995-01-01    53202.8  \n",
      "1995-02-01    53096.2  \n",
      "1995-03-01    53201.3  \n",
      "1995-04-01    53590.9  \n",
      "\n",
      "[5 rows x 48 columns]\n",
      "(322, 48)\n",
      "DatetimeIndex([       'NaT', '1995-01-01', '1995-02-01', '1995-03-01',\n",
      "               '1995-04-01', '1995-05-01', '1995-06-01', '1995-07-01',\n",
      "               '1995-08-01', '1995-09-01',\n",
      "               ...\n",
      "               '2020-12-01', '2021-01-01', '2021-02-01', '2021-03-01',\n",
      "               '2021-04-01', '2021-05-01', '2021-06-01', '2021-07-01',\n",
      "               '2021-08-01', '2021-09-01'],\n",
      "              dtype='datetime64[ns]', length=322, freq=None)\n",
      "City of London          E09000001\n",
      "Barking & Dagenham      E09000002\n",
      "Barnet                  E09000003\n",
      "Bexley                  E09000004\n",
      "Brent                   E09000005\n",
      "Bromley                 E09000006\n",
      "Camden                  E09000007\n",
      "Croydon                 E09000008\n",
      "Ealing                  E09000009\n",
      "Enfield                 E09000010\n",
      "Greenwich               E09000011\n",
      "Hackney                 E09000012\n",
      "Hammersmith & Fulham    E09000013\n",
      "Haringey                E09000014\n",
      "Harrow                  E09000015\n",
      "Havering                E09000016\n",
      "Hillingdon              E09000017\n",
      "Hounslow                E09000018\n",
      "Islington               E09000019\n",
      "Kensington & Chelsea    E09000020\n",
      "Kingston upon Thames    E09000021\n",
      "Lambeth                 E09000022\n",
      "Lewisham                E09000023\n",
      "Merton                  E09000024\n",
      "Newham                  E09000025\n",
      "Redbridge               E09000026\n",
      "Richmond upon Thames    E09000027\n",
      "Southwark               E09000028\n",
      "Sutton                  E09000029\n",
      "Tower Hamlets           E09000030\n",
      "Waltham Forest          E09000031\n",
      "Wandsworth              E09000032\n",
      "Westminster             E09000033\n",
      "Unnamed: 33                   NaN\n",
      "Inner London            E13000001\n",
      "Outer London            E13000002\n",
      "Unnamed: 36                   NaN\n",
      "NORTH EAST              E12000001\n",
      "NORTH WEST              E12000002\n",
      "YORKS & THE HUMBER      E12000003\n",
      "EAST MIDLANDS           E12000004\n",
      "WEST MIDLANDS           E12000005\n",
      "EAST OF ENGLAND         E12000006\n",
      "LONDON                  E12000007\n",
      "SOUTH EAST              E12000008\n",
      "SOUTH WEST              E12000009\n",
      "Unnamed: 46                   NaN\n",
      "England                 E92000001\n",
      "Name: NaT, dtype: object\n"
     ]
    }
   ],
   "source": [
    "print(properties.info())\n",
    "print(properties.head())\n",
    "print(properties.shape)\n",
    "print(properties.index)\n",
    "print(properties.iloc[0])"
   ]
  },
  {
   "cell_type": "markdown",
   "metadata": {
    "colab_type": "text",
    "id": "tE9Sqt9-oAta"
   },
   "source": [
    "**2.2. Cleaning the data**\n",
    "\n",
    "You might find you need to transpose your dataframe, check out what its row indexes are, and reset the index. You  also might find you need to assign the values of the first row to your column headings  . (Hint: recall the .columns feature of DataFrames, as well as the iloc[] method).\n",
    "\n",
    "Don't be afraid to use StackOverflow for help  with this."
   ]
  },
  {
   "cell_type": "code",
   "execution_count": 5,
   "metadata": {
    "colab": {},
    "colab_type": "code",
    "id": "cdAu1A3YoH_r"
   },
   "outputs": [],
   "source": [
    "properties_nona = properties.loc[properties.index.notnull()]\n",
    "propertiesT = properties_nona.transpose()\n",
    "propertiesT['ID'] = properties.iloc[0]\n",
    "propertiesT = propertiesT.reset_index()\n"
   ]
  },
  {
   "cell_type": "markdown",
   "metadata": {
    "colab_type": "text",
    "id": "o1uLbJAsoIjK"
   },
   "source": [
    "**2.3. Cleaning the data (part 2)**\n",
    "\n",
    "You might we have to **rename** a couple columns. How do you do this? The clue's pretty bold..."
   ]
  },
  {
   "cell_type": "code",
   "execution_count": 6,
   "metadata": {
    "colab": {},
    "colab_type": "code",
    "id": "GKkmn1AnoVZS",
    "scrolled": false
   },
   "outputs": [
    {
     "data": {
      "text/html": [
       "<div>\n",
       "<style scoped>\n",
       "    .dataframe tbody tr th:only-of-type {\n",
       "        vertical-align: middle;\n",
       "    }\n",
       "\n",
       "    .dataframe tbody tr th {\n",
       "        vertical-align: top;\n",
       "    }\n",
       "\n",
       "    .dataframe thead th {\n",
       "        text-align: right;\n",
       "    }\n",
       "</style>\n",
       "<table border=\"1\" class=\"dataframe\">\n",
       "  <thead>\n",
       "    <tr style=\"text-align: right;\">\n",
       "      <th></th>\n",
       "      <th>Borough</th>\n",
       "      <th>1995-01-01 00:00:00</th>\n",
       "      <th>1995-02-01 00:00:00</th>\n",
       "      <th>1995-03-01 00:00:00</th>\n",
       "      <th>1995-04-01 00:00:00</th>\n",
       "      <th>1995-05-01 00:00:00</th>\n",
       "      <th>1995-06-01 00:00:00</th>\n",
       "      <th>1995-07-01 00:00:00</th>\n",
       "      <th>1995-08-01 00:00:00</th>\n",
       "      <th>1995-09-01 00:00:00</th>\n",
       "      <th>...</th>\n",
       "      <th>2021-01-01 00:00:00</th>\n",
       "      <th>2021-02-01 00:00:00</th>\n",
       "      <th>2021-03-01 00:00:00</th>\n",
       "      <th>2021-04-01 00:00:00</th>\n",
       "      <th>2021-05-01 00:00:00</th>\n",
       "      <th>2021-06-01 00:00:00</th>\n",
       "      <th>2021-07-01 00:00:00</th>\n",
       "      <th>2021-08-01 00:00:00</th>\n",
       "      <th>2021-09-01 00:00:00</th>\n",
       "      <th>ID</th>\n",
       "    </tr>\n",
       "  </thead>\n",
       "  <tbody>\n",
       "    <tr>\n",
       "      <th>0</th>\n",
       "      <td>City of London</td>\n",
       "      <td>91449</td>\n",
       "      <td>82202.8</td>\n",
       "      <td>79120.7</td>\n",
       "      <td>77101.2</td>\n",
       "      <td>84409.1</td>\n",
       "      <td>94900.5</td>\n",
       "      <td>110128</td>\n",
       "      <td>112329</td>\n",
       "      <td>104473</td>\n",
       "      <td>...</td>\n",
       "      <td>754194</td>\n",
       "      <td>725011</td>\n",
       "      <td>719703</td>\n",
       "      <td>728497</td>\n",
       "      <td>720954</td>\n",
       "      <td>729879</td>\n",
       "      <td>-</td>\n",
       "      <td>-</td>\n",
       "      <td>-</td>\n",
       "      <td>E09000001</td>\n",
       "    </tr>\n",
       "    <tr>\n",
       "      <th>1</th>\n",
       "      <td>Barking &amp; Dagenham</td>\n",
       "      <td>50460.2</td>\n",
       "      <td>51085.8</td>\n",
       "      <td>51269</td>\n",
       "      <td>53133.5</td>\n",
       "      <td>53042.2</td>\n",
       "      <td>53700.3</td>\n",
       "      <td>52113.1</td>\n",
       "      <td>52232.2</td>\n",
       "      <td>51471.6</td>\n",
       "      <td>...</td>\n",
       "      <td>312470</td>\n",
       "      <td>315749</td>\n",
       "      <td>312382</td>\n",
       "      <td>313131</td>\n",
       "      <td>312431</td>\n",
       "      <td>317235</td>\n",
       "      <td>319550</td>\n",
       "      <td>322496</td>\n",
       "      <td>329287</td>\n",
       "      <td>E09000002</td>\n",
       "    </tr>\n",
       "    <tr>\n",
       "      <th>2</th>\n",
       "      <td>Barnet</td>\n",
       "      <td>93284.5</td>\n",
       "      <td>93190.2</td>\n",
       "      <td>92247.5</td>\n",
       "      <td>90762.9</td>\n",
       "      <td>90258</td>\n",
       "      <td>90107.2</td>\n",
       "      <td>91441.2</td>\n",
       "      <td>92361.3</td>\n",
       "      <td>93273.1</td>\n",
       "      <td>...</td>\n",
       "      <td>538684</td>\n",
       "      <td>537171</td>\n",
       "      <td>537973</td>\n",
       "      <td>530778</td>\n",
       "      <td>533319</td>\n",
       "      <td>541297</td>\n",
       "      <td>536013</td>\n",
       "      <td>544559</td>\n",
       "      <td>533093</td>\n",
       "      <td>E09000003</td>\n",
       "    </tr>\n",
       "    <tr>\n",
       "      <th>3</th>\n",
       "      <td>Bexley</td>\n",
       "      <td>64958.1</td>\n",
       "      <td>64787.9</td>\n",
       "      <td>64367.5</td>\n",
       "      <td>64277.7</td>\n",
       "      <td>63997.1</td>\n",
       "      <td>64252.3</td>\n",
       "      <td>63722.7</td>\n",
       "      <td>64432.6</td>\n",
       "      <td>64509.5</td>\n",
       "      <td>...</td>\n",
       "      <td>355757</td>\n",
       "      <td>359324</td>\n",
       "      <td>361782</td>\n",
       "      <td>362053</td>\n",
       "      <td>361919</td>\n",
       "      <td>364464</td>\n",
       "      <td>366452</td>\n",
       "      <td>373547</td>\n",
       "      <td>375156</td>\n",
       "      <td>E09000004</td>\n",
       "    </tr>\n",
       "    <tr>\n",
       "      <th>4</th>\n",
       "      <td>Brent</td>\n",
       "      <td>71306.6</td>\n",
       "      <td>72022.3</td>\n",
       "      <td>72015.8</td>\n",
       "      <td>72965.6</td>\n",
       "      <td>73704</td>\n",
       "      <td>74310.5</td>\n",
       "      <td>74127</td>\n",
       "      <td>73547</td>\n",
       "      <td>73789.5</td>\n",
       "      <td>...</td>\n",
       "      <td>514525</td>\n",
       "      <td>516501</td>\n",
       "      <td>520407</td>\n",
       "      <td>502074</td>\n",
       "      <td>506917</td>\n",
       "      <td>514056</td>\n",
       "      <td>528684</td>\n",
       "      <td>533696</td>\n",
       "      <td>542095</td>\n",
       "      <td>E09000005</td>\n",
       "    </tr>\n",
       "  </tbody>\n",
       "</table>\n",
       "<p>5 rows × 323 columns</p>\n",
       "</div>"
      ],
      "text/plain": [
       "              Borough 1995-01-01 00:00:00 1995-02-01 00:00:00  \\\n",
       "0      City of London               91449             82202.8   \n",
       "1  Barking & Dagenham             50460.2             51085.8   \n",
       "2              Barnet             93284.5             93190.2   \n",
       "3              Bexley             64958.1             64787.9   \n",
       "4               Brent             71306.6             72022.3   \n",
       "\n",
       "  1995-03-01 00:00:00 1995-04-01 00:00:00 1995-05-01 00:00:00  \\\n",
       "0             79120.7             77101.2             84409.1   \n",
       "1               51269             53133.5             53042.2   \n",
       "2             92247.5             90762.9               90258   \n",
       "3             64367.5             64277.7             63997.1   \n",
       "4             72015.8             72965.6               73704   \n",
       "\n",
       "  1995-06-01 00:00:00 1995-07-01 00:00:00 1995-08-01 00:00:00  \\\n",
       "0             94900.5              110128              112329   \n",
       "1             53700.3             52113.1             52232.2   \n",
       "2             90107.2             91441.2             92361.3   \n",
       "3             64252.3             63722.7             64432.6   \n",
       "4             74310.5               74127               73547   \n",
       "\n",
       "  1995-09-01 00:00:00    ...     2021-01-01 00:00:00 2021-02-01 00:00:00  \\\n",
       "0              104473    ...                  754194              725011   \n",
       "1             51471.6    ...                  312470              315749   \n",
       "2             93273.1    ...                  538684              537171   \n",
       "3             64509.5    ...                  355757              359324   \n",
       "4             73789.5    ...                  514525              516501   \n",
       "\n",
       "  2021-03-01 00:00:00 2021-04-01 00:00:00 2021-05-01 00:00:00  \\\n",
       "0              719703              728497              720954   \n",
       "1              312382              313131              312431   \n",
       "2              537973              530778              533319   \n",
       "3              361782              362053              361919   \n",
       "4              520407              502074              506917   \n",
       "\n",
       "  2021-06-01 00:00:00 2021-07-01 00:00:00 2021-08-01 00:00:00  \\\n",
       "0              729879                   -                   -   \n",
       "1              317235              319550              322496   \n",
       "2              541297              536013              544559   \n",
       "3              364464              366452              373547   \n",
       "4              514056              528684              533696   \n",
       "\n",
       "  2021-09-01 00:00:00         ID  \n",
       "0                   -  E09000001  \n",
       "1              329287  E09000002  \n",
       "2              533093  E09000003  \n",
       "3              375156  E09000004  \n",
       "4              542095  E09000005  \n",
       "\n",
       "[5 rows x 323 columns]"
      ]
     },
     "execution_count": 6,
     "metadata": {},
     "output_type": "execute_result"
    }
   ],
   "source": [
    "propertiesT = propertiesT.dropna()\n",
    "propertiesT = propertiesT.rename(columns={\"index\": 'Borough'})\n",
    "nrow, ncol= propertiesT.shape\n",
    "propertiesT.head()\n"
   ]
  },
  {
   "cell_type": "markdown",
   "metadata": {
    "colab_type": "text",
    "id": "jy8BzXHmoWEw"
   },
   "source": [
    "**2.4.Transforming the data**\n",
    "\n",
    "Remember what Wes McKinney said about tidy data? \n",
    "\n",
    "You might need to **melt** your DataFrame here. "
   ]
  },
  {
   "cell_type": "code",
   "execution_count": 7,
   "metadata": {
    "colab": {},
    "colab_type": "code",
    "id": "S2wM0qLuo2Zt"
   },
   "outputs": [
    {
     "data": {
      "text/html": [
       "<div>\n",
       "<style scoped>\n",
       "    .dataframe tbody tr th:only-of-type {\n",
       "        vertical-align: middle;\n",
       "    }\n",
       "\n",
       "    .dataframe tbody tr th {\n",
       "        vertical-align: top;\n",
       "    }\n",
       "\n",
       "    .dataframe thead th {\n",
       "        text-align: right;\n",
       "    }\n",
       "</style>\n",
       "<table border=\"1\" class=\"dataframe\">\n",
       "  <thead>\n",
       "    <tr style=\"text-align: right;\">\n",
       "      <th></th>\n",
       "      <th>ID</th>\n",
       "      <th>Borough</th>\n",
       "      <th>variable</th>\n",
       "      <th>value</th>\n",
       "    </tr>\n",
       "  </thead>\n",
       "  <tbody>\n",
       "    <tr>\n",
       "      <th>0</th>\n",
       "      <td>E09000001</td>\n",
       "      <td>City of London</td>\n",
       "      <td>1995-01-01</td>\n",
       "      <td>91449</td>\n",
       "    </tr>\n",
       "    <tr>\n",
       "      <th>1</th>\n",
       "      <td>E09000002</td>\n",
       "      <td>Barking &amp; Dagenham</td>\n",
       "      <td>1995-01-01</td>\n",
       "      <td>50460.2</td>\n",
       "    </tr>\n",
       "    <tr>\n",
       "      <th>2</th>\n",
       "      <td>E09000003</td>\n",
       "      <td>Barnet</td>\n",
       "      <td>1995-01-01</td>\n",
       "      <td>93284.5</td>\n",
       "    </tr>\n",
       "    <tr>\n",
       "      <th>3</th>\n",
       "      <td>E09000004</td>\n",
       "      <td>Bexley</td>\n",
       "      <td>1995-01-01</td>\n",
       "      <td>64958.1</td>\n",
       "    </tr>\n",
       "    <tr>\n",
       "      <th>4</th>\n",
       "      <td>E09000005</td>\n",
       "      <td>Brent</td>\n",
       "      <td>1995-01-01</td>\n",
       "      <td>71306.6</td>\n",
       "    </tr>\n",
       "  </tbody>\n",
       "</table>\n",
       "</div>"
      ],
      "text/plain": [
       "          ID             Borough   variable    value\n",
       "0  E09000001      City of London 1995-01-01    91449\n",
       "1  E09000002  Barking & Dagenham 1995-01-01  50460.2\n",
       "2  E09000003              Barnet 1995-01-01  93284.5\n",
       "3  E09000004              Bexley 1995-01-01  64958.1\n",
       "4  E09000005               Brent 1995-01-01  71306.6"
      ]
     },
     "execution_count": 7,
     "metadata": {},
     "output_type": "execute_result"
    }
   ],
   "source": [
    "properties_melt = propertiesT.melt(id_vars=['ID','Borough'])\n",
    "properties_melt.head()\n"
   ]
  },
  {
   "cell_type": "markdown",
   "metadata": {
    "colab_type": "text",
    "id": "7kIsgAo7o3mf"
   },
   "source": [
    "Remember to make sure your column data types are all correct. Average prices, for example, should be floating point numbers... "
   ]
  },
  {
   "cell_type": "code",
   "execution_count": 8,
   "metadata": {
    "colab": {},
    "colab_type": "code",
    "id": "ZcR4IHbcpOaq"
   },
   "outputs": [
    {
     "data": {
      "text/html": [
       "<div>\n",
       "<style scoped>\n",
       "    .dataframe tbody tr th:only-of-type {\n",
       "        vertical-align: middle;\n",
       "    }\n",
       "\n",
       "    .dataframe tbody tr th {\n",
       "        vertical-align: top;\n",
       "    }\n",
       "\n",
       "    .dataframe thead th {\n",
       "        text-align: right;\n",
       "    }\n",
       "</style>\n",
       "<table border=\"1\" class=\"dataframe\">\n",
       "  <thead>\n",
       "    <tr style=\"text-align: right;\">\n",
       "      <th></th>\n",
       "      <th>ID</th>\n",
       "      <th>Borough</th>\n",
       "      <th>Month</th>\n",
       "      <th>Average Price</th>\n",
       "    </tr>\n",
       "  </thead>\n",
       "  <tbody>\n",
       "    <tr>\n",
       "      <th>0</th>\n",
       "      <td>E09000001</td>\n",
       "      <td>City of London</td>\n",
       "      <td>1995-01-01</td>\n",
       "      <td>91449</td>\n",
       "    </tr>\n",
       "    <tr>\n",
       "      <th>1</th>\n",
       "      <td>E09000002</td>\n",
       "      <td>Barking &amp; Dagenham</td>\n",
       "      <td>1995-01-01</td>\n",
       "      <td>50460.2</td>\n",
       "    </tr>\n",
       "    <tr>\n",
       "      <th>2</th>\n",
       "      <td>E09000003</td>\n",
       "      <td>Barnet</td>\n",
       "      <td>1995-01-01</td>\n",
       "      <td>93284.5</td>\n",
       "    </tr>\n",
       "    <tr>\n",
       "      <th>3</th>\n",
       "      <td>E09000004</td>\n",
       "      <td>Bexley</td>\n",
       "      <td>1995-01-01</td>\n",
       "      <td>64958.1</td>\n",
       "    </tr>\n",
       "    <tr>\n",
       "      <th>4</th>\n",
       "      <td>E09000005</td>\n",
       "      <td>Brent</td>\n",
       "      <td>1995-01-01</td>\n",
       "      <td>71306.6</td>\n",
       "    </tr>\n",
       "  </tbody>\n",
       "</table>\n",
       "</div>"
      ],
      "text/plain": [
       "          ID             Borough      Month Average Price\n",
       "0  E09000001      City of London 1995-01-01         91449\n",
       "1  E09000002  Barking & Dagenham 1995-01-01       50460.2\n",
       "2  E09000003              Barnet 1995-01-01       93284.5\n",
       "3  E09000004              Bexley 1995-01-01       64958.1\n",
       "4  E09000005               Brent 1995-01-01       71306.6"
      ]
     },
     "execution_count": 8,
     "metadata": {},
     "output_type": "execute_result"
    }
   ],
   "source": [
    "properties_melt = properties_melt.rename(columns={'variable':'Month','value':'Average Price'})\n",
    "properties_melt.head()"
   ]
  },
  {
   "cell_type": "markdown",
   "metadata": {
    "colab_type": "text",
    "id": "knLUXHLypOtw"
   },
   "source": [
    "**2.5. Cleaning the data (part 3)**\n",
    "\n",
    "Do we have an equal number of observations in the ID, Average Price, Month, and London Borough columns? Remember that there are only 32 London Boroughs. How many entries do you have in that column? \n",
    "\n",
    "Check out the contents of the London Borough column, and if you find null values, get rid of them however you see fit. "
   ]
  },
  {
   "cell_type": "code",
   "execution_count": 9,
   "metadata": {
    "colab": {},
    "colab_type": "code",
    "id": "BnvTW5a3p0fC"
   },
   "outputs": [
    {
     "name": "stdout",
     "output_type": "stream",
     "text": [
      "Index(['ID', 'Borough', 'Month', 'Average Price'], dtype='object')\n",
      "False\n"
     ]
    }
   ],
   "source": [
    "print(properties_melt.columns)\n",
    "print(np.any(properties_melt.isna()))"
   ]
  },
  {
   "cell_type": "markdown",
   "metadata": {
    "colab_type": "text",
    "id": "PGEx6mJsp6dG"
   },
   "source": [
    "**2.6. Visualizing the data**\n",
    "\n",
    "To visualize the data, why not subset on a particular London Borough? Maybe do a line plot of Month against Average Price?"
   ]
  },
  {
   "cell_type": "code",
   "execution_count": 32,
   "metadata": {
    "colab": {},
    "colab_type": "code",
    "id": "nAg5pT9cqHAR"
   },
   "outputs": [
    {
     "data": {
      "image/png": "[encoded data removed]",
      "text/plain": [
       "<Figure size 432x288 with 1 Axes>"
      ]
     },
     "metadata": {
      "needs_background": "light"
     },
     "output_type": "display_data"
    },
    {
     "name": "stdout",
     "output_type": "stream",
     "text": [
      "                           Average Price\n",
      "Borough              Year               \n",
      "Kensington & Chelsea 2018   1.363880e+06\n"
     ]
    }
   ],
   "source": [
    "# I would like tolook at average price of Borough Barnet from 1995 to 2019\n",
    "properties_melt['Average Price'] = properties_melt['Average Price'].apply(pd.to_numeric, errors='coerce')\n",
    "propertiesYearMean = properties_melt.groupby(['Borough','Year']).mean()\n",
    "propertiesYearMean.head()\n",
    "propertiesYearMean.loc['Barnet'].plot(y='Average Price',kind='line')\n",
    "plt.title('Average Orice of Borough Barnet from 1995 to 2019')\n",
    "plt.ylabel('Average Price')\n",
    "plt.show()\n",
    "print(propertiesYearMean[propertiesYearMean['Average Price'].apply(pd.to_numeric, errors='coerce')==propertiesYearMean['Average Price'].max()])\n",
    "\n"
   ]
  },
  {
   "cell_type": "markdown",
   "metadata": {
    "colab_type": "text",
    "id": "aWTPqSJeqHnC"
   },
   "source": [
    "To limit the number of data points you have, you might want to extract the year from every month value your *Month* column. \n",
    "\n",
    "To this end, you *could* apply a ***lambda function***. Your logic could work as follows:\n",
    "1. look through the `Month` column\n",
    "2. extract the year from each individual value in that column \n",
    "3. store that corresponding year as separate column. \n",
    "\n",
    "Whether you go ahead with this is up to you. Just so long as you answer our initial brief: which boroughs of London have seen the greatest house price increase, on average, over the past two decades? "
   ]
  },
  {
   "cell_type": "code",
   "execution_count": 11,
   "metadata": {
    "colab": {},
    "colab_type": "code",
    "id": "e0DF92cyqnu8"
   },
   "outputs": [
    {
     "name": "stdout",
     "output_type": "stream",
     "text": [
      "Average Price  first     61296.526370\n",
      "               last     657278.278400\n",
      "Increase                    10.722929\n",
      "Name: Hackney, dtype: float64\n"
     ]
    }
   ],
   "source": [
    "properties_melt['Year'] = properties_melt['Month'].apply(lambda x: x.year)\n",
    "Borough_price_compared = properties_melt.sort_values('Month').groupby(['Borough']).agg({'Average Price':['first', 'last']})\n",
    "Borough_price_compared = Borough_price_compared.apply(pd.to_numeric, errors='coerce')\n",
    "Borough_price_compared['Increase'] = Borough_price_compared[('Average Price','last')].astype('float')/Borough_price_compared[('Average Price','first')].astype('float')\n",
    "#print(Borough_price_compared[Borough_price_compared['Increase']==Borough_price_compared['Increase'].max()])\n",
    "print(Borough_price_compared.loc[Borough_price_compared['Increase'].idxmax()])\n"
   ]
  },
  {
   "cell_type": "markdown",
   "metadata": {
    "colab_type": "text",
    "id": "2knuTxAEqoJ4"
   },
   "source": [
    "**3. Modeling**\n",
    "\n",
    "Consider creating a function that will calculate a ratio of house prices, comparing the price of a house in 2018 to the price in 1998.\n",
    "\n",
    "Consider calling this function create_price_ratio.\n",
    "\n",
    "You'd want this function to:\n",
    "1. Take a filter of dfg, specifically where this filter constrains the London_Borough, as an argument. For example, one admissible argument should be: dfg[dfg['London_Borough']=='Camden'].\n",
    "2. Get the Average Price for that Borough, for the years 1998 and 2018.\n",
    "4. Calculate the ratio of the Average Price for 1998 divided by the Average Price for 2018.\n",
    "5. Return that ratio.\n",
    "\n",
    "Once you've written this function, you ultimately want to use it to iterate through all the unique London_Boroughs and work out the ratio capturing the difference of house prices between 1998 and 2018.\n",
    "\n",
    "Bear in mind: you don't have to write a function like this if you don't want to. If you can solve the brief otherwise, then great! \n",
    "\n",
    "***Hint***: This section should test the skills you acquired in:\n",
    "- Python Data Science Toolbox - Part One, all modules"
   ]
  },
  {
   "cell_type": "code",
   "execution_count": 12,
   "metadata": {
    "colab": {},
    "colab_type": "code",
    "id": "cKTyr437UgDa"
   },
   "outputs": [
    {
     "data": {
      "text/plain": [
       "Borough\n",
       "Barking & Dagenham    0.204223\n",
       "Barnet                0.229453\n",
       "Bexley                0.235351\n",
       "Brent                 0.204309\n",
       "Bromley               0.244213\n",
       "Name: Average Price, dtype: float64"
      ]
     },
     "execution_count": 12,
     "metadata": {},
     "output_type": "execute_result"
    }
   ],
   "source": [
    "properties_melt['Average Price'] = properties_melt['Average Price'].apply(pd.to_numeric, errors='coerce')\n",
    "propertiesPrice1998 = properties_melt[properties_melt['Year']==1998].groupby(['Borough']).agg(np.mean)\n",
    "propertiesPrice2018 = properties_melt[properties_melt['Year']==2018].groupby(['Borough']).agg(np.mean)\n",
    "propertiesRatio = propertiesPrice1998['Average Price'] / propertiesPrice2018['Average Price']\n",
    "propertiesRatio.head()"
   ]
  },
  {
   "cell_type": "markdown",
   "metadata": {
    "colab_type": "text",
    "id": "NzYUI7FxJpgv"
   },
   "source": [
    "### 4. Conclusion\n",
    "What can you conclude? Type out your conclusion below. \n",
    "\n",
    "Look back at your notebook. Think about how you might summarize what you have done, and prepare a quick presentation on it to your mentor at your next meeting. \n",
    "\n",
    "We hope you enjoyed this practical project. It should have consolidated your data hygiene and pandas skills by looking at a real-world problem involving just the kind of dataset you might encounter as a budding data scientist. Congratulations, and looking forward to seeing you at the next step in the course! "
   ]
  },
  {
   "cell_type": "markdown",
   "metadata": {},
   "source": [
    "# Summary\n",
    "\n",
    "Through analyzing the data, Borough Hackney has seen the greatest house price increase, on average, over the past two decades. The average price increased from 61296.52 in 1995 to 657278.28 in 2021, which is about 10.72 times of the old price. "
   ]
  },
  {
   "cell_type": "code",
   "execution_count": null,
   "metadata": {},
   "outputs": [],
   "source": []
  }
 ],
 "metadata": {
  "colab": {
   "collapsed_sections": [],
   "name": "Springboard Data Science Career Track Unit 4 Challenge - Tier 3 Complete .ipynb",
   "provenance": []
  },
  "kernelspec": {
   "display_name": "Python 3",
   "language": "python",
   "name": "python3"
  },
  "language_info": {
   "codemirror_mode": {
    "name": "ipython",
    "version": 3
   },
   "file_extension": ".py",
   "mimetype": "text/x-python",
   "name": "python",
   "nbconvert_exporter": "python",
   "pygments_lexer": "ipython3",
   "version": "3.7.0"
  }
 },
 "nbformat": 4,
 "nbformat_minor": 1
}
